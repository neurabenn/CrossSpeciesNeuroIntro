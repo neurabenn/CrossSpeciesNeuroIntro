{
 "cells": [
  {
   "attachments": {},
   "cell_type": "markdown",
   "metadata": {},
   "source": [
    "# Anatomically-Informed Comparative Neuroimaging\n",
    "\n",
    "This notebook is where you can put all your code for things you plan to do in your presentation "
   ]
  },
  {
   "cell_type": "code",
   "execution_count": null,
   "metadata": {
    "vscode": {
     "languageId": "plaintext"
    }
   },
   "outputs": [],
   "source": [
    "from repo2data.repo2data import Repo2Data\n",
    "import os\n",
    "# # install the data if running locally, or points to cached data if running on neurolibre\n",
    "data_req_path = os.path.join(\"../../\", \"binder\", \"data_requirement.json\")\n",
    "# # download data\n",
    "repo2data = Repo2Data(data_req_path,)\n",
    "data_path = repo2data.install()\n",
    "data_dir=os.path.realpath('../../data/Xspecies/googledrive/02-bryant/')\n",
    "\n",
    "print(f'data for this chapter is stored in the {data_dir}')\n",
    "### copy any pngs in the data folder to this notebook folder \n",
    "!mkdir -p images\n",
    "!cp {data_dir}/*png images/"
   ]
  },
  {
   "cell_type": "markdown",
   "metadata": {},
   "source": [
    "Place whatever you want here"
   ]
  },
  {
   "cell_type": "markdown",
   "metadata": {},
   "source": [
    "The start of any common-space approach is the establishment of anatomical landmarks. How do we identify homologous areas between species? In poorly-characterized species, how do we cross-validate these putative homologies? What role can automated approaches play? Using the chimpanzee as a case example, we will explore different imaging modalities (structural, diffusion, and myelin mapping) for identifying cortical landmarks, and analytical approaches for mapping brain organization."
   ]
  },
  {
   "cell_type": "markdown",
   "metadata": {},
   "source": [
    "# Anatomy is cool \n",
    "example heading use whatever you want "
   ]
  },
  {
   "cell_type": "markdown",
   "metadata": {},
   "source": [
    "enter text and such here \n",
    "\n",
    "here is your example AI generated image showing the data loading works \n",
    "\n",
    "pngs can be placed with all the data. but if using markdown to show them then the path is images/<<imagename.png>>\n",
    "\n",
    "please use pngs for now \n",
    "\n",
    "\n",
    "![example image](images/ex_image.png \"example image\")"
   ]
  },
  {
   "cell_type": "markdown",
   "metadata": {},
   "source": [
    "# Another heading "
   ]
  },
  {
   "cell_type": "code",
   "execution_count": null,
   "metadata": {
    "vscode": {
     "languageId": "plaintext"
    }
   },
   "outputs": [],
   "source": [
    "import matplotlib.pyplot as plt\n",
    "import numpy as np\n",
    "\n",
    "# Generate random data\n",
    "np.random.seed(0)\n",
    "x = np.random.rand(100)\n",
    "y = np.random.rand(100)\n",
    "\n",
    "# Create a scatter plot\n",
    "plt.figure(figsize=(10, 6))\n",
    "plt.scatter(x, y, c='g', alpha=0.5, label='Random Data')\n",
    "plt.title('Scatter Plot of Random Data')\n",
    "plt.xlabel('X-axis')\n",
    "plt.ylabel('Y-axis')\n",
    "plt.legend()\n",
    "plt.grid(True)\n",
    "plt.show()\n"
   ]
  }
 ],
 "metadata": {
  "celltoolbar": "Edit Metadata",
  "kernelspec": {
   "display_name": "Python 3 (ipykernel)",
   "language": "python",
   "name": "python3"
  },
  "language_info": {
   "codemirror_mode": {
    "name": "ipython",
    "version": 3
   },
   "file_extension": ".py",
   "mimetype": "text/x-python",
   "name": "python",
   "nbconvert_exporter": "python",
   "pygments_lexer": "ipython3",
   "version": "3.8.16"
  }
 },
 "nbformat": 4,
 "nbformat_minor": 4
}
