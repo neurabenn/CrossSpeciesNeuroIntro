{
 "cells": [
  {
   "attachments": {},
   "cell_type": "markdown",
   "metadata": {},
   "source": [
    "# Anatomically-Informed Comparative Neuroimaging"
   ]
  },
  {
   "cell_type": "code",
   "execution_count": null,
   "metadata": {
    "vscode": {
     "languageId": "plaintext"
    }
   },
   "outputs": [],
   "source": [
    "import os\n",
    "data_dir=os.path.realpath('../../data/02-bryant/')\n",
    "\n",
    "print(f'data for this chapter is stored in the {data_dir}')\n",
    "### copy any pngs in the data folder to this notebook folder \n",
    "!mkdir -p images\n",
    "!cp {data_dir}/*png images/"
   ]
  },
  {
   "cell_type": "markdown",
   "metadata": {
    "vscode": {
     "languageId": "plaintext"
    }
   },
   "source": [
    "Anatomically-Informed Comparative Neuroimaging\n",
    "\n",
    "Katherine L. Bryant, PhD\n",
    "\n",
    "\n",
    "Postdoctoral fellow,\n",
    "\n",
    " Institute for Language, Communication, and the Brain\n",
    "\n",
    " \n",
    "Aix-Marseille Université, Marseille, France"
   ]
  },
  {
   "cell_type": "markdown",
   "metadata": {
    "vscode": {
     "languageId": "plaintext"
    }
   },
   "source": [
    "\n",
    "### 1. Understudied species can be a rich source of insight\n",
    "-   Novel model species\n",
    "-\tPhylogenetic approaches reveal human brain specializations\n",
    "-\tThe relationship between structure & function\n",
    "![image1](images/1.png \" \")\n",
    "\n",
    "\n",
    "### 2. Neuroimaging in understudied species poses challenges\n",
    "- Software is not designed for non-humans and/or non-macaques\n",
    "- \tBrain organization is highly variable between species\n",
    "-\tNot all of us started as biologists!\n",
    "![image2](images/2.png \" \")\n",
    "\n",
    "### 3. The Approach: \n",
    "-\tWHERE: Homologous landmarks\n",
    "-\tWHEN: Manual vs. automated\n",
    "-\tWHAT: Downstream analyses\n",
    "![image3](images/3.png \" \")\n",
    "\n",
    "### 4. Anatomical Resources\n",
    "-\tHistorical: Early atlases, blunt dissections\n",
    "-\tRecent: Tract-tracing, histology\n",
    "-\tModern: Neuroimaging-based atlases, structural and diffusion data, myelin mapping\n",
    "![image4](images/4.png \" \")\n",
    "\n",
    "### 5. Identifying homologous areas – Easy vs. Hard examples\n",
    "-\tEasy: Well-studied species, higher N, post mortem scans, larger brains\n",
    "-\tDifficult: Poorly-studied species, lower N, in vivo, smaller brains\n",
    "![image5](images/5.png \" \")\n",
    "\n",
    "### 6. Identifying homologous areas – sulcal and cytoarchitectonic landmarks\n",
    "![image6](images/6.png \" \")\n",
    "\n",
    "### 7. Identifying homologous areas – blunt dissection and tractography\n",
    "![image7](images/7.png \" \")\n",
    "\n",
    "### 8. Identifying homologous areas – myelin maps and bringing it all together\n",
    "![image8](images/8.png \" \")\n",
    "### 9. Identifying homologous areas – fractional anisotropy maps\n",
    "![image9](images/9.png \" \")\n",
    "### 10. Identifying homologous areas – hard example: Saki monkey (Pithecia Pithecia)\n",
    "-\tNo historical data\n",
    "-\tNot closely related to well-studied species\n",
    "-\tN=1\n",
    "![image10](images/10.png \" \")\n",
    "### 11. Approaches \n",
    "-\tManual: Preprocessing tweaks, ROIs\n",
    "-\tBoth: Customizing species-specific pipelines\n",
    "-\tAutomated: Template generation, tissue segmentation, tractography, common spaces (see presentation by S. Warrington)\n",
    "![image11](images/11.png \" \")\n",
    "### 12. From preprocessing to template generation\n",
    "-\tManual correction: brain extraction and segmentation\n",
    "-\tAutomated pipelines for structural and diffusion templates\n",
    "![image12](images/12.png \" \")\n",
    "### 13. Ready for tractography\n",
    "-\tUse your anatomical landmarks to build tractography recipes\n",
    "![image13](images/13.png \" \")\n",
    "### 14. Analyses\n",
    "-\tSpecies-level: Maps & Atlases\n",
    "-\tComparative:  Interspecies differences\n",
    "-\tEvolutionary: Phylogenetic inference\n",
    "![image14](images/14.png \" \")\n",
    "\n",
    "### 15. Maps & Atlases\n",
    "![image15](images/15.png \" \")\n",
    "### 16. From intra- to interspecies comparisons\n",
    "![image16](images/16.png \" \")\n",
    "### 17. Phylogenetic inference\n",
    "![image17a](images/17a.png \" \")\n",
    "![image17b](images/17b.png \" \")\n",
    "### 18. A word on Data Repositories\n",
    "![image18](images/18.png \" \")\n",
    "### 19. Summary\n",
    "-\tWe live in exciting times: \n",
    "-\tHigh-quality post mortem imaging of understudied species now available\n",
    "-\tSharing of data resources (scans, protocols, maps, and atlases)\n",
    "-\tBut keep in mind:\n",
    "-\tMapping understudied brains requires anatomic knowledge\n",
    "-\tManual corrections are your friend\n",
    "-\tUnderstanding evolutionary theory is necessary for parsimonnious analyses\n",
    "\n"
   ]
  },
  {
   "cell_type": "markdown",
   "metadata": {},
   "source": []
  }
 ],
 "metadata": {
  "celltoolbar": "Edit Metadata",
  "kernelspec": {
   "display_name": "Python 3 (ipykernel)",
   "language": "python",
   "name": "python3"
  },
  "language_info": {
   "codemirror_mode": {
    "name": "ipython",
    "version": 3
   },
   "file_extension": ".py",
   "mimetype": "text/x-python",
   "name": "python",
   "nbconvert_exporter": "python",
   "pygments_lexer": "ipython3",
   "version": "3.8.16"
  }
 },
 "nbformat": 4,
 "nbformat_minor": 4
}
