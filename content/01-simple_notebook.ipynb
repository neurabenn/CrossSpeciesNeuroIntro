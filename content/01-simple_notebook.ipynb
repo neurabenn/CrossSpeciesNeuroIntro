{
 "cells": [
  {
   "attachments": {},
   "cell_type": "markdown",
   "metadata": {},
   "source": [
    "# How to make a code cell collapsible in the Jupyter Book? \n",
    "\n",
    "1. In the title bar above: `View` --> `Cell Toolbar` --> `Edit Metadata`\n",
    "\n",
    "2. An `Edit Metadata` button will appear on the upper right corner of all the cells. Click that button for the cell you would like to expand/collapse in your preprint.\n",
    "\n",
    "3. Make the following addition:\n",
    "\n",
    "```json\n",
    "{\n",
    "   \"tags\": [\n",
    "      \"hide-input\"\n",
    "    ]\n",
    "}\n",
    "```\n",
    "\n",
    "Please visit [Jupyter Book documentation](https://jupyterbook.org/content/index.html) for more information about the Book content and syntax. "
   ]
  },
  {
   "cell_type": "code",
   "execution_count": null,
   "metadata": {
    "tags": [
     "hide-input"
    ]
   },
   "outputs": [],
   "source": [
    "print(\"This code cell will be hidden in the Jupyter Book.\")"
   ]
  },
  {
   "cell_type": "markdown",
   "metadata": {},
   "source": [
    "## How to render interactive figures?\n",
    "\n",
    "The code cell below uses `Plotly` to generate a simple interactive figure. When the Jupyter Book is built, the example figure will be rendered."
   ]
  },
  {
   "cell_type": "code",
   "execution_count": null,
   "metadata": {},
   "outputs": [],
   "source": [
    "import plotly.express as px\n",
    "from plotly.offline import plot\n",
    "from IPython.core.display import HTML\n",
    "\n",
    "# Example dataset \n",
    "df = px.data.gapminder()\n",
    "\n",
    "# Scatter plot with slider\n",
    "fig = px.scatter(df.query(\"year==2007\"), x=\"gdpPercap\", y=\"lifeExp\", size=\"pop\", color=\"continent\",\n",
    "           hover_name=\"country\", log_x=True, size_max=60)\n",
    "\n",
    "# fig.show() # You can use this command for inline rendering as you are developing your notebook.\n",
    "\n",
    "plot(fig, filename = 'example_figure.html')\n",
    "display(HTML('example_figure.html'))"
   ]
  }
 ],
 "metadata": {
  "celltoolbar": "Edit Metadata",
  "kernelspec": {
   "display_name": "Python 3 (ipykernel)",
   "language": "python",
   "name": "python3"
  },
  "language_info": {
   "codemirror_mode": {
    "name": "ipython",
    "version": 3
   },
   "file_extension": ".py",
   "mimetype": "text/x-python",
   "name": "python",
   "nbconvert_exporter": "python",
   "pygments_lexer": "ipython3",
   "version": "3.8.16"
  }
 },
 "nbformat": 4,
 "nbformat_minor": 4
}
