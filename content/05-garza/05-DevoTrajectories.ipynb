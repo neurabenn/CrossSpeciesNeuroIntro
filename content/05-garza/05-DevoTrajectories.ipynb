{
 "cells": [
  {
   "attachments": {},
   "cell_type": "markdown",
   "metadata": {},
   "source": [
    "# Developmental trajectories as a common space between species\n",
    "This cell contains the name of the title that will be linked from the previous page \n",
    "This notebook or markdown file depending on how you want to do this Eduardo is the chapter space for your material"
   ]
  },
  {
   "cell_type": "markdown",
   "metadata": {},
   "source": [
    "Place whatever you want here"
   ]
  },
  {
   "cell_type": "code",
   "execution_count": null,
   "metadata": {
    "vscode": {
     "languageId": "plaintext"
    }
   },
   "outputs": [],
   "source": [
    "import os\n",
    "data_dir=os.path.realpath('../../data/05-garza/')\n",
    "\n",
    "print(f'data for this chapter is stored in the {data_dir}')\n",
    "### copy any pngs in the data folder to this notebook folder \n",
    "!mkdir -p images\n",
    "!cp {data_dir}/*png images/"
   ]
  },
  {
   "cell_type": "markdown",
   "metadata": {},
   "source": [
    "In this talk I will introduce the use of developmental trajectories to study brain structure between species. First I will describe the statistical basis of the study of trajectories or longitudinal time series, then I will describe how to use these in the context of the study of brain volume between species. "
   ]
  },
  {
   "cell_type": "markdown",
   "metadata": {},
   "source": [
    "# Longitudinal trajectories"
   ]
  },
  {
   "cell_type": "markdown",
   "metadata": {},
   "source": [
    "enter text and such here"
   ]
  },
  {
   "cell_type": "markdown",
   "metadata": {},
   "source": [
    "enter text and such here \n",
    "\n",
    "here is your example AI generated image showing the data loading works \n",
    "\n",
    "pngs can be placed with all the data. but if using markdown to show them then the path is images/<<imagename.png>>\n",
    "\n",
    "please use pngs for now \n",
    "\n",
    "\n",
    "![example image](images/ex_image.png \"example image\")"
   ]
  },
  {
   "cell_type": "markdown",
   "metadata": {},
   "source": [
    "# Building them across species"
   ]
  },
  {
   "cell_type": "markdown",
   "metadata": {},
   "source": [
    "insert whatever text you like "
   ]
  },
  {
   "cell_type": "markdown",
   "metadata": {},
   "source": []
  },
  {
   "cell_type": "code",
   "execution_count": null,
   "metadata": {},
   "outputs": [],
   "source": [
    "import matplotlib.pyplot as plt\n",
    "import numpy as np\n",
    "\n",
    "# Generate random data\n",
    "np.random.seed(0)\n",
    "x = np.random.rand(100)\n",
    "y = np.random.rand(100)\n",
    "\n",
    "# Create a scatter plot\n",
    "plt.figure(figsize=(10, 6))\n",
    "plt.scatter(x, y, c='k', alpha=0.5, label='Random Data')\n",
    "plt.title('Scatter Plot of Random Data')\n",
    "plt.xlabel('X-axis')\n",
    "plt.ylabel('Y-axis')\n",
    "plt.legend()\n",
    "plt.grid(True)\n",
    "plt.show()\n"
   ]
  },
  {
   "cell_type": "code",
   "execution_count": null,
   "metadata": {
    "vscode": {
     "languageId": "plaintext"
    }
   },
   "outputs": [],
   "source": []
  }
 ],
 "metadata": {
  "celltoolbar": "Edit Metadata",
  "kernelspec": {
   "display_name": "Python 3 (ipykernel)",
   "language": "python",
   "name": "python3"
  },
  "language_info": {
   "codemirror_mode": {
    "name": "ipython",
    "version": 3
   },
   "file_extension": ".py",
   "mimetype": "text/x-python",
   "name": "python",
   "nbconvert_exporter": "python",
   "pygments_lexer": "ipython3",
   "version": "3.8.16"
  }
 },
 "nbformat": 4,
 "nbformat_minor": 4
}
