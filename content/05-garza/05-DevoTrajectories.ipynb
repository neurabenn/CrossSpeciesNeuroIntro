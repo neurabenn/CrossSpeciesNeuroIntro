{
 "cells": [
  {
   "attachments": {},
   "cell_type": "markdown",
   "metadata": {},
   "source": [
    "# Developmental trajectories as a common space between species\n",
    "This cell contains the name of the title that will be linked from the previous page \n",
    "This notebook or markdown file depending on how you want to do this Eduardo is the chapter space for your material"
   ]
  },
  {
   "cell_type": "markdown",
   "metadata": {},
   "source": [
    "Place whatever you want here"
   ]
  },
  {
   "cell_type": "code",
   "execution_count": null,
   "metadata": {
    "vscode": {
     "languageId": "plaintext"
    }
   },
   "outputs": [],
   "source": [
    "import os\n",
    "data_dir=os.path.realpath('../../data/05-garza/')\n",
    "\n",
    "print(f'data for this chapter is stored in the {data_dir}')\n",
    "### copy any pngs in the data folder to this notebook folder \n",
    "!mkdir -p images\n",
    "!cp {data_dir}/*png images/"
   ]
  },
  {
   "cell_type": "markdown",
   "metadata": {},
   "source": [
    "In this talk I will introduce the use of developmental trajectories to study brain structure between species. First I will describe the statistical basis of the study of trajectories or longitudinal time series, then I will describe how to use these in the context of the study of brain volume between species. "
   ]
  },
  {
   "cell_type": "markdown",
   "metadata": {},
   "source": [
    "# Longitudinaldd trajectories"
   ]
  },
  {
   "cell_type": "code",
   "execution_count": null,
   "metadata": {
    "vscode": {
     "languageId": "plaintext"
    }
   },
   "outputs": [],
   "source": []
  }
 ],
 "metadata": {
  "celltoolbar": "Edit Metadata",
  "kernelspec": {
   "display_name": "Python 3 (ipykernel)",
   "language": "python",
   "name": "python3"
  },
  "language_info": {
   "codemirror_mode": {
    "name": "ipython",
    "version": 3
   },
   "file_extension": ".py",
   "mimetype": "text/x-python",
   "name": "python",
   "nbconvert_exporter": "python",
   "pygments_lexer": "ipython3",
   "version": "3.8.16"
  }
 },
 "nbformat": 4,
 "nbformat_minor": 4
}
