{
 "cells": [
  {
   "cell_type": "markdown",
   "metadata": {},
   "source": [
    "# Phylogenetic comparative neuroanatomy\n",
    "Katja Heuer"
   ]
  },
  {
   "cell_type": "markdown",
   "metadata": {},
   "source": [
    "To interpret our results in an evolutionary perspective, we need to consider that different species are not independent data points but are all part of a large phylogenetic tree, sharing different amounts of common history.  \n",
    "In this session, we will discover the importance of taking phylogenetic relationships into account when aiming at comparing brain traits across species. We will explore major evolutionary models, including the Brownian motion model, Ornstein-Uhlenbeck and Early Burst model of phenotypic evolution, and how to use them in our analyses. "
   ]
  },
  {
   "cell_type": "code",
   "execution_count": 5,
   "metadata": {
    "vscode": {
     "languageId": "plaintext"
    }
   },
   "outputs": [
    {
     "name": "stdout",
     "output_type": "stream",
     "text": [
      "data for this chapter is stored in the /Users/katja/Desktop/2024-06_OHBM/CrossSpeciesNeuroIntro/data/06-heuer\n",
      "zsh:1: no matches found: /Users/katja/Desktop/2024-06_OHBM/CrossSpeciesNeuroIntro/data/06-heuer/*png\n"
     ]
    }
   ],
   "source": [
    "import os\n",
    "data_dir=os.path.realpath('../../data/06-heuer/')\n",
    "\n",
    "print(f'data for this chapter is stored in the {data_dir}')\n",
    "### copy any pngs in the data folder to this notebook folder \n",
    "!mkdir -p images\n",
    "!cp {data_dir}/*png images/"
   ]
  },
  {
   "cell_type": "markdown",
   "metadata": {},
   "source": [
    "# Incredible neuroanatomical diversity\n",
    "\n",
    "Whether just across primates, or across the mammalian kingdom, or widely across vertebrates; the cerebrum or cerebellum, macroscale or microscale – there is an incredible neuroanatomical diversity that doesn't stop to amaze.  \n",
    "These are some references to some of the phylogenetic comparative analyses of neuroanatomy we have done – for inspiration if I manage to make you curious :) "
   ]
  },
  {
   "cell_type": "markdown",
   "metadata": {},
   "source": [
    "![neuroanat](images/neuroanatomicalDiversity.png \"Neuroanatmical diversity\")  \n",
    "[Heuer et al., 2019](https://doi.org/10.1016/j.cortex.2019.04.011)"
   ]
  },
  {
   "cell_type": "markdown",
   "metadata": {},
   "source": [
    "![mammal-diversity-1](images/mammal-diversity-1.png \"Mammal diversity\")  \n",
    "![mammal-diversity-2](images/mammal-diversity-2.png \"Mammal neuroanatomical diversity\")  \n",
    "[Heuer et al., 2023](https://doi.org/10.7554/eLife.85907)"
   ]
  },
  {
   "cell_type": "markdown",
   "metadata": {},
   "source": [
    "![primate-cerebellum](images/primate-cerebellum.png \"Primate-cerebellum\")  \n",
    "[Magielse et al., 2023](https://doi.org/10.1038/s42003-023-05553-z)"
   ]
  },
  {
   "cell_type": "markdown",
   "metadata": {},
   "source": [
    "![BrainCatalogue](images/BrainCatalogue.png \"Brain Catalogue\")  \n",
    "Sneak peek into our brain surfaces from our open [Brain Catalogue](https://braincatalogue.org)."
   ]
  },
  {
   "cell_type": "markdown",
   "metadata": {},
   "source": [
    "The main objective of my talk is to highlight the importance of considering phylogenetic relationships when comparing brain traits across different species. By understanding these relationships, we can interpret neuroanatomical data in a more accurate evolutionary context, and gain clearer insights into brain evolution."
   ]
  },
  {
   "cell_type": "markdown",
   "metadata": {},
   "source": [
    "# The tree of life\n",
    "\n",
    "represents our understanding of how life evolved from a common ancestor to all living things as an array of splitting events (Rosindell and Harmon 2012)."
   ]
  },
  {
   "cell_type": "markdown",
   "metadata": {},
   "source": [
    "![treeoflife](images/TreeOfLife.png \"Tree of life\")"
   ]
  },
  {
   "cell_type": "markdown",
   "metadata": {},
   "source": [
    "# Phylogenetic trees"
   ]
  },
  {
   "cell_type": "markdown",
   "metadata": {},
   "source": [
    "You can obtain a phylogenetic tree for exactly the species in your sample from several online sources. For example, from the **[TimeTree of Life](https://timetree.org)** website, which also gives you some additional information on events in geological time and astronomical history, oxygen levels and other events. And the **[10K trees](https://10ktrees.nunn-lab.org/downloadTrees.html)** website is specialised on primate phylogenies, among others, and have the most primate species included to date. "
   ]
  },
  {
   "cell_type": "markdown",
   "metadata": {},
   "source": [
    "Here, we will load and visualise a phylogenetic tree across 34 primate species. However, most tools for phylogenetic analyses are written in R, and so we will use an R notebook to have a look at some simple analyses (link will be added below). "
   ]
  },
  {
   "cell_type": "code",
   "execution_count": 7,
   "metadata": {},
   "outputs": [
    {
     "name": "stdout",
     "output_type": "stream",
     "text": [
      "Collecting git+https://github.com/jeetsukumaran/DendroPy.git\n",
      "  Cloning https://github.com/jeetsukumaran/DendroPy.git to /private/var/folders/4p/r9dzxlgx3hqdrjdw4_p3y7d80000gn/T/pip-req-build-gyze5eas\n",
      "  Running command git clone -q https://github.com/jeetsukumaran/DendroPy.git /private/var/folders/4p/r9dzxlgx3hqdrjdw4_p3y7d80000gn/T/pip-req-build-gyze5eas\n",
      "  Resolved https://github.com/jeetsukumaran/DendroPy.git to commit 3afc4f7ba8d79fcdcdf1f2969ccbf815243cbe9e\n",
      "Requirement already satisfied: setuptools in /opt/homebrew/anaconda3/lib/python3.9/site-packages (from DendroPy==5.0.1) (61.2.0)\n",
      "Collecting git+git://github.com/jeetsukumaran/DendroPy.git\n",
      "  Cloning git://github.com/jeetsukumaran/DendroPy.git to /private/var/folders/4p/r9dzxlgx3hqdrjdw4_p3y7d80000gn/T/pip-req-build-84hcvk3c\n",
      "  Running command git clone -q git://github.com/jeetsukumaran/DendroPy.git /private/var/folders/4p/r9dzxlgx3hqdrjdw4_p3y7d80000gn/T/pip-req-build-84hcvk3c\n",
      "  fatal: unable to connect to github.com:\n",
      "  github.com[0: 140.82.121.4]: errno=Connection refused\n",
      "\n",
      "\u001b[33mWARNING: Discarding git+git://github.com/jeetsukumaran/DendroPy.git. Command errored out with exit status 128: git clone -q git://github.com/jeetsukumaran/DendroPy.git /private/var/folders/4p/r9dzxlgx3hqdrjdw4_p3y7d80000gn/T/pip-req-build-84hcvk3c Check the logs for full command output.\u001b[0m\n",
      "\u001b[31mERROR: Command errored out with exit status 128: git clone -q git://github.com/jeetsukumaran/DendroPy.git /private/var/folders/4p/r9dzxlgx3hqdrjdw4_p3y7d80000gn/T/pip-req-build-84hcvk3c Check the logs for full command output.\u001b[0m\n"
     ]
    }
   ],
   "source": [
    "!python3 -m pip install git+https://github.com/jeetsukumaran/DendroPy.git\n",
    "!python3 -m pip install git+git://github.com/jeetsukumaran/DendroPy.git"
   ]
  },
  {
   "cell_type": "code",
   "execution_count": 8,
   "metadata": {},
   "outputs": [],
   "source": [
    "import dendropy\n",
    "from dendropy import treecalc"
   ]
  },
  {
   "cell_type": "code",
   "execution_count": 13,
   "metadata": {},
   "outputs": [],
   "source": [
    "tree_path= \"images/consensusTree_10kTrees_Primates_Version3.nex\"\n",
    "tree = dendropy.Tree.get_from_path(tree_path, \"nexus\")"
   ]
  },
  {
   "cell_type": "code",
   "execution_count": 14,
   "metadata": {},
   "outputs": [],
   "source": [
    "tree = dendropy.Tree.get(path=tree_path, schema=\"nexus\")"
   ]
  },
  {
   "cell_type": "code",
   "execution_count": 15,
   "metadata": {},
   "outputs": [
    {
     "name": "stdout",
     "output_type": "stream",
     "text": [
      "                                           /------ Cercopithecus cephus cephus \n",
      "                         /-----------------+                                   \n",
      "                         |                 \\------ Chlorocebus sabaeus         \n",
      "                         |                                                     \n",
      "                  /------+           /------------ Cercocebus atys             \n",
      "                  |      |     /-----+                                         \n",
      "                  |      |     |     |     /------ Lophocebus albigena         \n",
      "                  |      |     |     \\-----+                                   \n",
      "                  |      \\-----+           \\------ Papio hamadryas             \n",
      "            /-----+            |                                               \n",
      "            |     |            |           /------ Macaca fascicularis         \n",
      "            |     |            \\-----------+                                   \n",
      "            |     |                        \\------ Macaca mulatta              \n",
      "            |     |                                                            \n",
      "            |     |                  /------------ Colobus polykomos           \n",
      "            |     \\------------------+                                         \n",
      "      /-----+                        |     /------ Semnopithecus entellus      \n",
      "      |     |                        \\-----+                                   \n",
      "      |     |                              \\------ Trachypithecus germaini     \n",
      "      |     |                                                                  \n",
      "      |     |     /------------------------------- Hylobates lar               \n",
      "      |     |     |                                                            \n",
      "      |     |     |                        /------ Gorilla beringei graueri    \n",
      "      |     |     |            /-----------+                                   \n",
      "      |     \\-----+            |           \\------ Gorilla gorilla gorilla     \n",
      "      |           |      /-----+                                               \n",
      "      |           |      |     |     /------------ Homo sapiens                \n",
      "/-----+           |      |     \\-----+                                         \n",
      "|     |           \\------+           |     /------ Pan paniscus                \n",
      "|     |                  |           \\-----+                                   \n",
      "|     |                  |                 \\------ Pan troglodytes troglodytes \n",
      "|     |                  |                                                     \n",
      "|     |                  \\------------------------ Pongo pygmaeus              \n",
      "|     |                                                                        \n",
      "|     |                                    /------ Ateles paniscus             \n",
      "|     |                  /-----------------+                                   \n",
      "|     |                  |                 \\------ Lagothrix lagotricha        \n",
      "|     |                  |                                                     \n",
      "|     \\------------------+           /------------ Aotus trivirgatus           \n",
      "|                        |     /-----+                                         \n",
      "|                        |     |     |     /------ Callithrix penicillata      \n",
      "|                        |     |     \\-----+                                   \n",
      "|                        \\-----+           \\------ Saguinus oedipus            \n",
      "|                              |                                               \n",
      "+                              |           /------ Cebus capucinus             \n",
      "|                              |     /-----+                                   \n",
      "|                              \\-----+     \\------ Cebus apella                \n",
      "|                                    |                                         \n",
      "|                                    \\------------ Saimiri sciureus            \n",
      "|                                                                              \n",
      "|                                          /------ Microcebus murinus          \n",
      "|                                    /-----+                                   \n",
      "|                              /-----+     \\------ Mirza coquereli             \n",
      "|                              |     |                                         \n",
      "|                              |     \\------------ Lepilemur ruficaudatus      \n",
      "|                        /-----+                                               \n",
      "|                        |     |           /------ Eulemur mongoz              \n",
      "|                        |     |     /-----+                                   \n",
      "|                 /------+     \\-----+     \\------ Lemur catta                 \n",
      "|                 |      |           |                                         \n",
      "|                 |      |           \\------------ Varecia variegata variegata \n",
      "\\-----------------+      |                                                     \n",
      "                  |      \\------------------------ Daubentonia madagascariensis\n",
      "                  |                                                            \n",
      "                  |                        /------ Loris tardigradus           \n",
      "                  \\------------------------+                                   \n",
      "                                           \\------ Galago demidoff             \n",
      "                                                                               \n",
      "                                                                               \n"
     ]
    }
   ],
   "source": [
    "print(tree.as_ascii_plot())"
   ]
  },
  {
   "cell_type": "markdown",
   "metadata": {},
   "source": [
    "#### Pruning the phylogenetic tree \n",
    "\n",
    "If you have a phylogenetic tree for a specific clade of species but you don't have neuroanatomical measurements for all of the tip species, you can still use the tree and just delete the species for which you do not have any data. \n",
    "\n",
    "Similarly, it may happen that you cannot measure all phenotypes across all species – because for example their brain has been damaged and you cannot see a certain structure there –, you can prune the tips from the tree to perform specific analyses."
   ]
  },
  {
   "cell_type": "code",
   "execution_count": 18,
   "metadata": {},
   "outputs": [],
   "source": [
    "tree.prune_taxa_with_labels(['Cercocebus atys'])"
   ]
  },
  {
   "cell_type": "code",
   "execution_count": 19,
   "metadata": {},
   "outputs": [
    {
     "name": "stdout",
     "output_type": "stream",
     "text": [
      "                                           /------ Cercopithecus cephus cephus \n",
      "                               /-----------+                                   \n",
      "                               |           \\------ Chlorocebus sabaeus         \n",
      "                               |                                               \n",
      "                         /-----+           /------ Lophocebus albigena         \n",
      "                         |     |     /-----+                                   \n",
      "                         |     |     |     \\------ Papio hamadryas             \n",
      "                         |     \\-----+                                         \n",
      "            /------------+           |     /------ Macaca fascicularis         \n",
      "            |            |           \\-----+                                   \n",
      "            |            |                 \\------ Macaca mulatta              \n",
      "            |            |                                                     \n",
      "            |            |           /------------ Colobus polykomos           \n",
      "            |            \\-----------+                                         \n",
      "            |                        |     /------ Semnopithecus entellus      \n",
      "      /-----+                        \\-----+                                   \n",
      "      |     |                              \\------ Trachypithecus germaini     \n",
      "      |     |                                                                  \n",
      "      |     |     /------------------------------- Hylobates lar               \n",
      "      |     |     |                                                            \n",
      "      |     |     |                        /------ Gorilla beringei graueri    \n",
      "      |     |     |            /-----------+                                   \n",
      "      |     \\-----+            |           \\------ Gorilla gorilla gorilla     \n",
      "      |           |      /-----+                                               \n",
      "      |           |      |     |     /------------ Homo sapiens                \n",
      "/-----+           |      |     \\-----+                                         \n",
      "|     |           \\------+           |     /------ Pan paniscus                \n",
      "|     |                  |           \\-----+                                   \n",
      "|     |                  |                 \\------ Pan troglodytes troglodytes \n",
      "|     |                  |                                                     \n",
      "|     |                  \\------------------------ Pongo pygmaeus              \n",
      "|     |                                                                        \n",
      "|     |                                    /------ Ateles paniscus             \n",
      "|     |                  /-----------------+                                   \n",
      "|     |                  |                 \\------ Lagothrix lagotricha        \n",
      "|     |                  |                                                     \n",
      "|     \\------------------+           /------------ Aotus trivirgatus           \n",
      "|                        |     /-----+                                         \n",
      "|                        |     |     |     /------ Callithrix penicillata      \n",
      "|                        |     |     \\-----+                                   \n",
      "|                        \\-----+           \\------ Saguinus oedipus            \n",
      "|                              |                                               \n",
      "+                              |           /------ Cebus capucinus             \n",
      "|                              |     /-----+                                   \n",
      "|                              \\-----+     \\------ Cebus apella                \n",
      "|                                    |                                         \n",
      "|                                    \\------------ Saimiri sciureus            \n",
      "|                                                                              \n",
      "|                                          /------ Microcebus murinus          \n",
      "|                                    /-----+                                   \n",
      "|                              /-----+     \\------ Mirza coquereli             \n",
      "|                              |     |                                         \n",
      "|                              |     \\------------ Lepilemur ruficaudatus      \n",
      "|                        /-----+                                               \n",
      "|                        |     |           /------ Eulemur mongoz              \n",
      "|                        |     |     /-----+                                   \n",
      "|                 /------+     \\-----+     \\------ Lemur catta                 \n",
      "|                 |      |           |                                         \n",
      "|                 |      |           \\------------ Varecia variegata variegata \n",
      "\\-----------------+      |                                                     \n",
      "                  |      \\------------------------ Daubentonia madagascariensis\n",
      "                  |                                                            \n",
      "                  |                        /------ Loris tardigradus           \n",
      "                  \\------------------------+                                   \n",
      "                                           \\------ Galago demidoff             \n",
      "                                                                               \n",
      "                                                                               \n"
     ]
    }
   ],
   "source": [
    "print(tree.as_ascii_plot())"
   ]
  },
  {
   "cell_type": "markdown",
   "metadata": {},
   "source": [
    "### Thanks! \n",
    "\n",
    "From here on, we'll move to R.  \n",
    "\n",
    "Thanks for following along ❤ Feel free to reach out if you'd like to work with us ❤ katjaqheuer@gmail.com  \n",
    "🕊 [Twitter](https://x.com/katjaQheuer)   🐘 [Mastodon](https://mstdn.social/@k4tj4)  \n",
    "\n",
    "We'll also cover data and other resources for comparative studies together with [Austin Benn](https://x.com/neurabenn)! "
   ]
  }
 ],
 "metadata": {
  "celltoolbar": "Edit Metadata",
  "kernelspec": {
   "display_name": "Python 3 (ipykernel)",
   "language": "python",
   "name": "python3"
  },
  "language_info": {
   "codemirror_mode": {
    "name": "ipython",
    "version": 3
   },
   "file_extension": ".py",
   "mimetype": "text/x-python",
   "name": "python",
   "nbconvert_exporter": "python",
   "pygments_lexer": "ipython3",
   "version": "3.9.12"
  }
 },
 "nbformat": 4,
 "nbformat_minor": 4
}
