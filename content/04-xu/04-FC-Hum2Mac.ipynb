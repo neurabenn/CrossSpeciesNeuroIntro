{
 "cells": [
  {
   "attachments": {},
   "cell_type": "markdown",
   "metadata": {},
   "source": [
    "# Comparative functional connectome between human and macaque\n",
    "This cell contains the name of the title that will be linked from the previous page \n",
    "This notebook or markdown file depending on how you want to do this Ting is the chapter space for your material\n"
   ]
  },
  {
   "cell_type": "code",
   "execution_count": null,
   "metadata": {
    "vscode": {
     "languageId": "plaintext"
    }
   },
   "outputs": [],
   "source": [
    "from repo2data.repo2data import Repo2Data\n",
    "import os\n",
    "# # install the data if running locally, or points to cached data if running on neurolibre\n",
    "data_req_path = os.path.join(\"../../\", \"binder\", \"data_requirement.json\")\n",
    "# # download data\n",
    "repo2data = Repo2Data(data_req_path,)\n",
    "data_path = repo2data.install()\n",
    "data_dir=os.path.realpath('../../data/Xspecies/googledrive/04-xu/')\n",
    "\n",
    "print(f'data for this chapter is stored in the {data_dir}')\n",
    "### copy any pngs in the data folder to this notebook folder \n",
    "!mkdir -p images\n",
    "!cp {data_dir}/*png images/"
   ]
  },
  {
   "cell_type": "markdown",
   "metadata": {},
   "source": [
    "Place whatever you want here"
   ]
  },
  {
   "cell_type": "markdown",
   "metadata": {},
   "source": [
    "In this talk, I will introduce the challenges and best practices in analyzing the functional connectome data in nonhuman primates by utilizing the publicly available data from PRIMatE Data Exchange (PRIME-DE) consortium. By leveraging this resource, I will present a dimensional reduction approach in constructing cross-species functional similarity, characterizing homologous and divergent functional profiles between humans and macaques.  "
   ]
  },
  {
   "cell_type": "markdown",
   "metadata": {},
   "source": [
    "# FC is cool "
   ]
  },
  {
   "cell_type": "markdown",
   "metadata": {},
   "source": [
    "enter text and such here"
   ]
  },
  {
   "cell_type": "markdown",
   "metadata": {},
   "source": [
    "enter text and such here \n",
    "\n",
    "here is your example AI generated image showing the data loading works \n",
    "\n",
    "pngs can be placed with all the data. but if using markdown to show them then the path is images/<<imagename.png>>\n",
    "\n",
    "please use pngs for now \n",
    "\n",
    "\n",
    "![example image](images/ex_image.png \"example image\")"
   ]
  },
  {
   "cell_type": "markdown",
   "metadata": {},
   "source": [
    "# Joint embedding is amazing. let me show off "
   ]
  },
  {
   "cell_type": "markdown",
   "metadata": {},
   "source": [
    "blah blah blah here is my amazing work "
   ]
  },
  {
   "cell_type": "code",
   "execution_count": null,
   "metadata": {
    "vscode": {
     "languageId": "plaintext"
    }
   },
   "outputs": [],
   "source": [
    "import matplotlib.pyplot as plt\n",
    "import numpy as np\n",
    "\n",
    "# Generate random data\n",
    "np.random.seed(0)\n",
    "x = np.random.rand(100)\n",
    "y = np.random.rand(100)\n",
    "\n",
    "# Create a scatter plot\n",
    "plt.figure(figsize=(10, 6))\n",
    "plt.scatter(x, y, c='y', alpha=0.5, label='Random Data')\n",
    "plt.title('Scatter Plot of Random Data')\n",
    "plt.xlabel('X-axis')\n",
    "plt.ylabel('Y-axis')\n",
    "plt.legend()\n",
    "plt.grid(True)\n",
    "plt.show()\n"
   ]
  },
  {
   "cell_type": "markdown",
   "metadata": {},
   "source": []
  }
 ],
 "metadata": {
  "celltoolbar": "Edit Metadata",
  "kernelspec": {
   "display_name": "Python 3 (ipykernel)",
   "language": "python",
   "name": "python3"
  },
  "language_info": {
   "codemirror_mode": {
    "name": "ipython",
    "version": 3
   },
   "file_extension": ".py",
   "mimetype": "text/x-python",
   "name": "python",
   "nbconvert_exporter": "python",
   "pygments_lexer": "ipython3",
   "version": "3.8.16"
  }
 },
 "nbformat": 4,
 "nbformat_minor": 4
}
