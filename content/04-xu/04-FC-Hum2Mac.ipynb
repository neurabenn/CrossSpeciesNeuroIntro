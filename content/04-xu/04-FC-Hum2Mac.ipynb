{
 "cells": [
  {
   "attachments": {},
   "cell_type": "markdown",
   "metadata": {},
   "source": [
    "# Comparative functional connectome between human and macaque\n",
    "This cell contains the name of the title that will be linked from the previous page \n",
    "This notebook or markdown file depending on how you want to do this Ting is the chapter space for your material\n"
   ]
  },
  {
   "cell_type": "code",
   "execution_count": null,
   "metadata": {
    "vscode": {
     "languageId": "plaintext"
    }
   },
   "outputs": [],
   "source": [
    "import os\n",
    "data_dir=os.path.realpath('../../data/04-xu/')\n",
    "\n",
    "print(f'data for this chapter is stored in the {data_dir}')\n",
    "### copy any pngs in the data folder to this notebook folder \n",
    "!mkdir -p images\n",
    "!cp {data_dir}/*png images/"
   ]
  },
  {
   "cell_type": "markdown",
   "metadata": {},
   "source": [
    "Place whatever you want here"
   ]
  },
  {
   "cell_type": "markdown",
   "metadata": {},
   "source": [
    "In this talk, I will introduce the challenges and best practices in analyzing the functional connectome data in nonhuman primates by utilizing the publicly available data from PRIMatE Data Exchange (PRIME-DE) consortium. By leveraging this resource, I will present a dimensional reduction approach in constructing cross-species functional similarity, characterizing homologous and divergent functional profiles between humans and macaques.  "
   ]
  },
  {
   "cell_type": "markdown",
   "metadata": {},
   "source": []
  }
 ],
 "metadata": {
  "celltoolbar": "Edit Metadata",
  "kernelspec": {
   "display_name": "Python 3 (ipykernel)",
   "language": "python",
   "name": "python3"
  },
  "language_info": {
   "codemirror_mode": {
    "name": "ipython",
    "version": 3
   },
   "file_extension": ".py",
   "mimetype": "text/x-python",
   "name": "python",
   "nbconvert_exporter": "python",
   "pygments_lexer": "ipython3",
   "version": "3.8.16"
  }
 },
 "nbformat": 4,
 "nbformat_minor": 4
}
