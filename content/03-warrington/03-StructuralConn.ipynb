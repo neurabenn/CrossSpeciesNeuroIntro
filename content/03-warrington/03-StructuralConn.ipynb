{
 "cells": [
  {
   "attachments": {},
   "cell_type": "markdown",
   "metadata": {},
   "source": [
    "# Using structural connections to build common spaces\n",
    "This cell contains the name of the title that will be linked from the previous page \n",
    "This notebook or markdown file depending on how you want to do this Shaun is the chapter space for your material\n"
   ]
  },
  {
   "cell_type": "code",
   "execution_count": null,
   "metadata": {
    "vscode": {
     "languageId": "plaintext"
    }
   },
   "outputs": [],
   "source": [
    "from repo2data.repo2data import Repo2Data\n",
    "import os\n",
    "# # install the data if running locally, or points to cached data if running on neurolibre\n",
    "data_req_path = os.path.join(\"../../\", \"binder\", \"data_requirement.json\")\n",
    "# # download data\n",
    "repo2data = Repo2Data(data_req_path,)\n",
    "data_path = repo2data.install()\n",
    "data_dir=os.path.realpath('../../data/Xspecies/googledrive/03-warrington/')\n",
    "\n",
    "print(f'data for this chapter is stored in the {data_dir}')\n",
    "### copy any pngs in the data folder to this notebook folder \n",
    "!mkdir -p images\n",
    "!cp {data_dir}/*png images/"
   ]
  },
  {
   "cell_type": "markdown",
   "metadata": {},
   "source": [
    "Place whatever you want here"
   ]
  },
  {
   "cell_type": "markdown",
   "metadata": {},
   "source": [
    "Diffusion tractography allows for the reconstruction of major white matter fibre bundles, many of which are preserved across evolution and show cortical connectivity patterns common and/or divergent across species. These (dis)similarities may be probed to understand brain evolution. In this talk, I will introduce how we can build common spaces anchored on major white matter fibre bundles to quantitatively compare brains across evolution. \n"
   ]
  },
  {
   "cell_type": "markdown",
   "metadata": {},
   "source": [
    "# Example header DWI here\n"
   ]
  },
  {
   "cell_type": "markdown",
   "metadata": {},
   "source": [
    "enter text and such here"
   ]
  },
  {
   "cell_type": "markdown",
   "metadata": {
    "vscode": {
     "languageId": "plaintext"
    }
   },
   "source": [
    "enter text and such here \n",
    "\n",
    "here is your example AI generated image showing the data loading works \n",
    "\n",
    "pngs can be placed with all the data. but if using markdown to show them then the path is images/<<imagename.png>>\n",
    "\n",
    "please use pngs for now \n",
    "\n",
    "\n",
    "![example image](images/ex_image.png \"example image\")"
   ]
  },
  {
   "cell_type": "markdown",
   "metadata": {},
   "source": [
    "# Xtract is awesome"
   ]
  },
  {
   "cell_type": "markdown",
   "metadata": {},
   "source": [
    "blah blah blah here are some examles of how amazing extract is "
   ]
  },
  {
   "cell_type": "markdown",
   "metadata": {},
   "source": [
    "a scatter plot -- anything you have will be executed and saved statically in the book just in case "
   ]
  },
  {
   "cell_type": "code",
   "execution_count": null,
   "metadata": {
    "vscode": {
     "languageId": "plaintext"
    }
   },
   "outputs": [],
   "source": [
    "import matplotlib.pyplot as plt\n",
    "import numpy as np\n",
    "\n",
    "# Generate random data\n",
    "np.random.seed(0)\n",
    "x = np.random.rand(100)\n",
    "y = np.random.rand(100)\n",
    "\n",
    "# Create a scatter plot\n",
    "plt.figure(figsize=(10, 6))\n",
    "plt.scatter(x, y, c='r', alpha=0.5, label='Random Data')\n",
    "plt.title('Scatter Plot of Random Data')\n",
    "plt.xlabel('X-axis')\n",
    "plt.ylabel('Y-axis')\n",
    "plt.legend()\n",
    "plt.grid(True)\n",
    "plt.show()\n"
   ]
  }
 ],
 "metadata": {
  "celltoolbar": "Edit Metadata",
  "kernelspec": {
   "display_name": "Python 3 (ipykernel)",
   "language": "python",
   "name": "python3"
  },
  "language_info": {
   "codemirror_mode": {
    "name": "ipython",
    "version": 3
   },
   "file_extension": ".py",
   "mimetype": "text/x-python",
   "name": "python",
   "nbconvert_exporter": "python",
   "pygments_lexer": "ipython3",
   "version": "3.8.16"
  }
 },
 "nbformat": 4,
 "nbformat_minor": 4
}
