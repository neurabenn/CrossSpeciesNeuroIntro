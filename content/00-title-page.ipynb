{
 "cells": [
  {
   "cell_type": "markdown",
   "metadata": {},
   "source": [
    "# An introduction to cross-species comparative neuroimaging\n",
    " \n",
    "\n",
    "Cross-species studies often make cameos in the OHBM community to showcase the versatility of neuroimaging’s latest methods. But comparative neuroimaging is a dynamic and productive field where novel methods and frameworks are deployed to compare brains across not only phenotypes, but genotypes as well. A key objective of comparative neuroscience is to understand the brain as the anatomical substrate encoding the behaviors required for each species to exploit its ecological niche. This evolutionary framework has recently been embodied by a common space approach; whereby common organizational motifs are used to identify the outliers unique to a given species. This unifying framework places all species on a common axis of cortical evolution, enabling us to understand where brain organization has been conserved, and where unique morphology may have emerged to drive unique aspects of human cognition. Furthermore, this common axis provides a framework for the translation of invasive findings derived from preclinical work.\n",
    "\n",
    "Until recently it has been difficult to use this framework as both acquiring non-human MRI data and analyzing it have been limited to research centers with specialized equipment and personnel. However, the comparative neuroimaging community has worked to remove these barriers via the creation of open-source data and resource repositories in the ongoing PRIME-DE and PRIME-RE projects. Thanks to these resources, now, more than ever, this course will democratize the field of comparative neuroimaging such that new voices and ideas may further our understanding of how evolution drives the underlying organization of the human brain."
   ]
  },
  {
   "cell_type": "markdown",
   "metadata": {},
   "source": [
    "Download the data the book is built on"
   ]
  },
  {
   "cell_type": "code",
   "execution_count": 1,
   "metadata": {},
   "outputs": [],
   "source": [
    "import gdown\n",
    "import os"
   ]
  },
  {
   "cell_type": "code",
   "execution_count": 3,
   "metadata": {},
   "outputs": [],
   "source": [
    "if os.path.isdir('../data')==True:\n",
    "    pass\n",
    "else:\n",
    "    gdown.download_folder(url='https://drive.google.com/drive/folders/12LocSo64gxy7j2WszK7aQHAvUqIH66em',output='../data',quiet=True)"
   ]
  },
  {
   "cell_type": "markdown",
   "metadata": {},
   "source": [
    "Data is now in the data directory"
   ]
  }
 ],
 "metadata": {
  "kernelspec": {
   "display_name": "Python (OHBMxSpeciesCourse2024env)",
   "language": "python",
   "name": "ohbmxspeciescourse2024env"
  },
  "language_info": {
   "codemirror_mode": {
    "name": "ipython",
    "version": 3
   },
   "file_extension": ".py",
   "mimetype": "text/x-python",
   "name": "python",
   "nbconvert_exporter": "python",
   "pygments_lexer": "ipython3",
   "version": "3.8.8"
  }
 },
 "nbformat": 4,
 "nbformat_minor": 4
}
